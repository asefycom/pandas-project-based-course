{
 "metadata": {
  "language_info": {
   "codemirror_mode": {
    "name": "ipython",
    "version": 3
   },
   "file_extension": ".py",
   "mimetype": "text/x-python",
   "name": "python",
   "nbconvert_exporter": "python",
   "pygments_lexer": "ipython3",
   "version": "3.8.1"
  },
  "orig_nbformat": 2,
  "kernelspec": {
   "name": "python381jvsc74a57bd0eded30b33a65b108e3bafc378f0741b5569efd417ab9a7e9a473ab1817ece768",
   "display_name": "Python 3.8.1 64-bit ('moonenv': conda)"
  },
  "metadata": {
   "interpreter": {
    "hash": "8038932db415eebf602bc024ced8f8ae1dda25ef4a81bf42c380a1cd71ba8252"
   }
  }
 },
 "nbformat": 4,
 "nbformat_minor": 2,
 "cells": [
  {
   "cell_type": "code",
   "execution_count": null,
   "metadata": {},
   "outputs": [],
   "source": []
  }
 ]
}