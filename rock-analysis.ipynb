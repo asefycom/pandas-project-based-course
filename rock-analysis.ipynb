{
 "metadata": {
  "language_info": {
   "codemirror_mode": {
    "name": "ipython",
    "version": 3
   },
   "file_extension": ".py",
   "mimetype": "text/x-python",
   "name": "python",
   "nbconvert_exporter": "python",
   "pygments_lexer": "ipython3",
   "version": "3.8.1"
  },
  "orig_nbformat": 2,
  "kernelspec": {
   "name": "python381jvsc74a57bd0eded30b33a65b108e3bafc378f0741b5569efd417ab9a7e9a473ab1817ece768",
   "display_name": "Python 3.8.1 64-bit ('moonenv': conda)"
  },
  "metadata": {
   "interpreter": {
    "hash": "8038932db415eebf602bc024ced8f8ae1dda25ef4a81bf42c380a1cd71ba8252"
   }
  }
 },
 "nbformat": 4,
 "nbformat_minor": 2,
 "cells": [
  {
   "source": [
    "## گام یکم: تبدیل داده ها به دیتافریم"
   ],
   "cell_type": "markdown",
   "metadata": {}
  },
  {
   "cell_type": "code",
   "execution_count": 1,
   "metadata": {},
   "outputs": [
    {
     "output_type": "stream",
     "name": "stdout",
     "text": [
      "<class 'pandas.core.frame.DataFrame'>\nRangeIndex: 2229 entries, 0 to 2228\nData columns (total 6 columns):\n #   Column        Non-Null Count  Dtype  \n---  ------        --------------  -----  \n 0   ID            2229 non-null   int64  \n 1   Mission       2229 non-null   object \n 2   Type          2229 non-null   object \n 3   Subtype       2226 non-null   object \n 4   Weight (g)    2229 non-null   float64\n 5   Pristine (%)  2229 non-null   float64\ndtypes: float64(2), int64(1), object(3)\nmemory usage: 104.6+ KB\n"
     ]
    }
   ],
   "source": [
    "import pandas as pd\n",
    "\n",
    "samples = pd.read_csv('data/rocksamples.csv')\n",
    "samples.info()"
   ]
  },
  {
   "cell_type": "code",
   "execution_count": null,
   "metadata": {},
   "outputs": [],
   "source": []
  }
 ]
}