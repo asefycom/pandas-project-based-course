{
 "metadata": {
  "language_info": {
   "codemirror_mode": {
    "name": "ipython",
    "version": 3
   },
   "file_extension": ".py",
   "mimetype": "text/x-python",
   "name": "python",
   "nbconvert_exporter": "python",
   "pygments_lexer": "ipython3",
   "version": "3.8.1"
  },
  "orig_nbformat": 2,
  "kernelspec": {
   "name": "python3",
   "display_name": "Python 3.8.1 64-bit ('moonenv': conda)"
  },
  "metadata": {
   "interpreter": {
    "hash": "8038932db415eebf602bc024ced8f8ae1dda25ef4a81bf42c380a1cd71ba8252"
   }
  },
  "interpreter": {
   "hash": "eded30b33a65b108e3bafc378f0741b5569efd417ab9a7e9a473ab1817ece768"
  }
 },
 "nbformat": 4,
 "nbformat_minor": 2,
 "cells": [
  {
   "source": [
    "## گام یکم: تبدیل داده ها به دیتافریم"
   ],
   "cell_type": "markdown",
   "metadata": {}
  },
  {
   "cell_type": "code",
   "execution_count": null,
   "metadata": {},
   "outputs": [],
   "source": [
    "import pandas as pd\n",
    "\n",
    "samples = pd.read_csv('data/rocksamples.csv')"
   ]
  },
  {
   "source": [
    "## گام دوم: پاکسازی داده ها"
   ],
   "cell_type": "markdown",
   "metadata": {}
  },
  {
   "cell_type": "code",
   "execution_count": null,
   "metadata": {},
   "outputs": [],
   "source": [
    "# مرحله اول: تماشای داده ها - توصیف\n",
    "samples.info()\n",
    "samples.head(10)\n",
    "samples.tail()\n",
    "samples.describe()"
   ]
  },
  {
   "cell_type": "code",
   "execution_count": null,
   "metadata": {},
   "outputs": [],
   "source": [
    "# مرحله اول: تماشای داده ها - نمودار\n",
    "#بر پایه متپلات لایب\n",
    "import matplotlib.pyplot as plt\n",
    "\n",
    "fig, ax = plt.subplots()\n",
    "ax.scatter(samples['Mission'], samples['Weight (g)'])\n",
    "ax.set_xlabel('Mission')\n",
    "ax.set_ylabel('Weight (g)')\n",
    "plt.show()"
   ]
  },
  {
   "cell_type": "code",
   "execution_count": null,
   "metadata": {},
   "outputs": [],
   "source": [
    "# بر پایه ای.پی.آی پانداز\n",
    "samples.plot(kind='scatter', x='Pristine (%)', y='Weight (g)')"
   ]
  },
  {
   "cell_type": "code",
   "execution_count": null,
   "metadata": {},
   "outputs": [],
   "source": [
    "# پیش از مرحله بعدی یک کپی از دیتافریم بگیرید\n",
    "samples_m = samples.copy()"
   ]
  },
  {
   "cell_type": "code",
   "execution_count": null,
   "metadata": {},
   "outputs": [],
   "source": [
    "# مرحله دوم: برخورد با داده های تهی و سطرهای تکراری\n",
    "# جایگزینی سلول های تهی با یک مقدار معین\n",
    "mean = samples_m['Weight (g)'].mean()\n",
    "median = samples_m['Weight (g)'].median()\n",
    "mode = samples_m['Weight (g)'].mode()[0]\n",
    "samples_m['Weight (g)'].fillna(mean, inplace=True) # or use 'median'/'mode'\n",
    "# حذف سطرهای حاوی حتی یک سلول تهی\n",
    "samples_m.dropna(inplace=True)\n",
    "# حذف سطرهای تکراری\n",
    "print(samples_m.duplicated())\n",
    "samples_m.drop_duplicates(inplace=True)\n",
    "samples_m.info()"
   ]
  },
  {
   "cell_type": "code",
   "execution_count": null,
   "metadata": {},
   "outputs": [],
   "source": [
    "# مرحله سوم و چهارم: مناسب کردن داده ها برای تحلیل های بعدی\n",
    "samples_m['Weight (g)'] = samples_m['Weight (g)'].apply(lambda x : x * 0.001)\n",
    "samples_m.head()"
   ]
  },
  {
   "cell_type": "code",
   "execution_count": null,
   "metadata": {},
   "outputs": [],
   "source": [
    "# مرحله پنجم: اصلاح عنوان سرستون ها\n",
    "samples_m.rename(columns={'Weight (g)' : 'Weight (kg)'}, inplace=True)\n",
    "samples_m.info()"
   ]
  },
  {
   "cell_type": "code",
   "execution_count": null,
   "metadata": {},
   "outputs": [],
   "source": [
    "# مرحله ششم: داده های پرت - تشخیص\n",
    "import seaborn as sb\n",
    "sb.boxplot(x=samples_m['Weight (kg)'])\n",
    "sb.boxplot(x=samples_m['Pristine (%)'])"
   ]
  },
  {
   "cell_type": "code",
   "execution_count": null,
   "metadata": {},
   "outputs": [],
   "source": [
    "# مرحله ششم: داده های پرت - برخورد\n",
    "\n",
    "# حذف داده های پرت وزن\n",
    "# q1_w = samples_m['Weight (kg)'].quantile(0.25)\n",
    "# q3_w = samples_m['Weight (kg)'].quantile(0.75)\n",
    "# iqr_w = q3_w - q1_w\n",
    "# print(iqr_w)\n",
    "\n",
    "# for i in samples_m.index:\n",
    "#     if samples_m.loc[i, 'Weight (kg)'] > (q3_w + 1.5*iqr_w):\n",
    "#         samples_m.drop(i,inplace=True)\n",
    "\n",
    "# حذف داده های پرت درصد تازگی\n",
    "for i in samples_m.index:\n",
    "    if samples_m.loc[i, 'Pristine (%)'] > 100:\n",
    "        samples_m.drop(i,inplace=True)\n",
    "        \n",
    "samples_m.info()"
   ]
  },
  {
   "source": [
    "## گام سوم: تحلیل داده ها"
   ],
   "cell_type": "markdown",
   "metadata": {}
  },
  {
   "cell_type": "code",
   "execution_count": null,
   "metadata": {},
   "outputs": [],
   "source": [
    "# ایجاد یک دیتافریم با ساختار تازه برای واریز نتایج تحلیل\n",
    "missions = pd.DataFrame()\n",
    "missions"
   ]
  },
  {
   "cell_type": "code",
   "execution_count": null,
   "metadata": {},
   "outputs": [],
   "source": [
    "# استخراج دسته ها از ستون\n",
    "missions['Mission'] = samples_m['Mission'].unique()\n",
    "missions"
   ]
  },
  {
   "cell_type": "code",
   "execution_count": null,
   "metadata": {},
   "outputs": [],
   "source": [
    "# جمع داده های یک ستون بر اساس گروه داده های آن\n",
    "total_samples_weight = samples_m.groupby('Mission')['Weight (kg)'].sum()\n",
    "total_samples_weight"
   ]
  },
  {
   "cell_type": "code",
   "execution_count": null,
   "metadata": {},
   "outputs": [],
   "source": [
    "# ادغام یک سری در یک دیتافریم\n",
    "missions = pd.merge(missions, total_samples_weight, on='Mission')\n",
    "missions.rename(columns={'Weight (kg)':'Sample weight (kg)'}, inplace=True)\n",
    "missions"
   ]
  },
  {
   "cell_type": "code",
   "execution_count": null,
   "metadata": {},
   "outputs": [],
   "source": [
    "# تفاضل داده ها در یک ستون\n",
    "missions['Weight diff'] = missions['Sample weight (kg)'].diff()\n",
    "missions['Weight diff'] = missions['Weight diff'].fillna(value=0)\n",
    "missions"
   ]
  },
  {
   "cell_type": "code",
   "execution_count": null,
   "metadata": {},
   "outputs": [],
   "source": [
    "# افزودن ستون (سری) به دیتافریم موجود\n",
    "missions['Lunar module (LM)'] = ['Eagle (LM-5)', 'Intrepid (LM-6)', 'Antares (LM-8)', 'Falcon (LM-10)', 'Orion (LM-11)', 'Challenger (LM-12)']\n",
    "missions['LM mass (kg)'] = [15103, 15235, 15264, 16430, 16445, 16456]\n",
    "missions['LM mass diff'] = missions['LM mass (kg)'].diff()\n",
    "missions['LM mass diff'] = missions['LM mass diff'].fillna(value=0)\n",
    "\n",
    "missions['Command module (CM)'] = ['Columbia (CSM-107)', 'Yankee Clipper (CM-108)', 'Kitty Hawk (CM-110)', 'Endeavor (CM-112)', 'Casper (CM-113)', 'America (CM-114)']\n",
    "missions['CM mass (kg)'] = [5560, 5609, 5758, 5875, 5840, 5960]\n",
    "missions['CM mass diff'] = missions['CM mass (kg)'].diff()\n",
    "missions['CM mass diff'] = missions['CM mass diff'].fillna(value=0)\n",
    "\n",
    "missions"
   ]
  },
  {
   "cell_type": "code",
   "execution_count": null,
   "metadata": {},
   "outputs": [],
   "source": [
    "# جمع داده های ستون ها در دیتافریم\n",
    "missions['Total weight (kg)'] = missions['LM mass (kg)'] + missions['CM mass (kg)']\n",
    "missions['Total weight diff'] = missions['LM mass diff'] + missions['CM mass diff']\n",
    "missions"
   ]
  }
 ]
}